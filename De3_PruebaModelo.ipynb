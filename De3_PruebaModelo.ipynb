{
 "cells": [
  {
   "cell_type": "code",
   "execution_count": 1,
   "metadata": {},
   "outputs": [],
   "source": [
    "import os\n",
    "import shutil\n",
    "import nltk\n",
    "from sklearn.feature_extraction.text import TfidfVectorizer\n",
    "from sklearn.model_selection import train_test_split, GridSearchCV\n",
    "from sklearn.metrics import precision_score, recall_score\n",
    "import xgboost as xgb"
   ]
  },
  {
   "cell_type": "code",
   "execution_count": 30,
   "metadata": {},
   "outputs": [
    {
     "name": "stdout",
     "output_type": "stream",
     "text": [
      "[0.0713623]\n",
      "[0.0713623]\n",
      "Los archivos están plagiados entre sí.\n"
     ]
    },
    {
     "name": "stderr",
     "output_type": "stream",
     "text": [
      "[nltk_data] Downloading package punkt to\n",
      "[nltk_data]     C:\\Users\\crisb\\AppData\\Roaming\\nltk_data...\n",
      "[nltk_data]   Package punkt is already up-to-date!\n"
     ]
    }
   ],
   "source": [
    "# Descargar recursos de NLTK (solo necesitas hacerlo una vez)\n",
    "nltk.download('punkt')\n",
    "\n",
    "# Función para tokenizar un archivo de código fuente\n",
    "def tokenizar_archivo(ruta_archivo):\n",
    "    with open(ruta_archivo, 'r') as archivo:\n",
    "        codigo = archivo.read()\n",
    "\n",
    "    # Tokenización utilizando NLTK\n",
    "    tokens = nltk.word_tokenize(codigo)\n",
    "    return ' '.join(tokens)  # Convertir los tokens en una cadena de texto\n",
    "    \n",
    "# Cargar el modelo entrenado\n",
    "modelo_cargado = xgb.Booster()\n",
    "modelo_cargado.load_model(\"plagio_xgboost.json\")\n",
    "\n",
    "# Rutas de los dos archivos de código a comparar\n",
    "ruta_archivo_1 = \".\\\\CFiles\\\\java\\\\test\\\\A1\\\\A10180\"\n",
    "ruta_archivo_2 = \".\\\\c1_copy.java\"\n",
    "\n",
    "#A10180 A12480 .\\\\CFiles\\\\java\\\\test\\\\A1\\\\A10180\n",
    "#    .\\\\c1_copy.java\n",
    "\n",
    "# Tokenizar y convertir los archivos en cadenas de texto\n",
    "codigo_1 = tokenizar_archivo(ruta_archivo_1)\n",
    "codigo_2 = tokenizar_archivo(ruta_archivo_2)\n",
    "\n",
    "# Inicializar el vectorizador TF-IDF y transformar los códigos\n",
    "vectorizer = TfidfVectorizer()\n",
    "codigo_1_tfidf = vectorizer.fit_transform([codigo_1])\n",
    "codigo_2_tfidf = vectorizer.transform([codigo_2])\n",
    "\n",
    "# Predecir si los archivos están plagiados entre sí\n",
    "prediccion_1 = modelo_cargado.predict(xgb.DMatrix(codigo_1_tfidf))\n",
    "print(prediccion_1)\n",
    "prediccion_2 = modelo_cargado.predict(xgb.DMatrix(codigo_2_tfidf))\n",
    "print(prediccion_2)\n",
    "\n",
    "if prediccion_1[0] == prediccion_2[0]:\n",
    "    print(\"Los archivos están plagiados entre sí.\")\n",
    "else:\n",
    "    print(\"Los archivos no están plagiados entre sí.\")"
   ]
  },
  {
   "cell_type": "code",
   "execution_count": null,
   "metadata": {},
   "outputs": [],
   "source": []
  }
 ],
 "metadata": {
  "kernelspec": {
   "display_name": "Python 3",
   "language": "python",
   "name": "python3"
  },
  "language_info": {
   "codemirror_mode": {
    "name": "ipython",
    "version": 3
   },
   "file_extension": ".py",
   "mimetype": "text/x-python",
   "name": "python",
   "nbconvert_exporter": "python",
   "pygments_lexer": "ipython3",
   "version": "3.12.3"
  }
 },
 "nbformat": 4,
 "nbformat_minor": 2
}
